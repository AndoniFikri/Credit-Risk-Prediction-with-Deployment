{
  "nbformat": 4,
  "nbformat_minor": 0,
  "metadata": {
    "colab": {
      "name": "Preprocessing Data Set (DTS Final Project)",
      "provenance": [],
      "authorship_tag": "ABX9TyMKudbN4U4PsBUOTm7QQ/RU",
      "include_colab_link": true
    },
    "kernelspec": {
      "name": "python3",
      "display_name": "Python 3"
    },
    "language_info": {
      "name": "python"
    }
  },
  "cells": [
    {
      "cell_type": "markdown",
      "metadata": {
        "id": "view-in-github",
        "colab_type": "text"
      },
      "source": [
        "<a href=\"https://colab.research.google.com/github/AndoniFikri/Credit-Risk-Prediction-with-Deployment/blob/main/Preprocessing_Data_Set_(DTS_Final_Project).ipynb\" target=\"_parent\"><img src=\"https://colab.research.google.com/assets/colab-badge.svg\" alt=\"Open In Colab\"/></a>"
      ]
    },
    {
      "cell_type": "markdown",
      "source": [
        "#Library"
      ],
      "metadata": {
        "id": "lk_pu-iJLJEF"
      }
    },
    {
      "cell_type": "code",
      "execution_count": null,
      "metadata": {
        "id": "AY-MovFrLDjc"
      },
      "outputs": [],
      "source": [
        "import numpy as np\n",
        "import pandas as pd\n",
        "import seaborn as sns\n",
        "import matplotlib.pyplot as plt\n",
        "pd.options.display.max_columns=None\n",
        "pd.options.display.max_rows=None"
      ]
    },
    {
      "cell_type": "markdown",
      "source": [
        "#Import Data Set"
      ],
      "metadata": {
        "id": "8JJF7tKjLL2k"
      }
    },
    {
      "cell_type": "code",
      "source": [
        "from google.colab import drive\n",
        "drive.mount('/content/drive')"
      ],
      "metadata": {
        "colab": {
          "base_uri": "https://localhost:8080/"
        },
        "id": "zjP1b3w-LN2T",
        "outputId": "e9669a2a-6ccd-41a1-9a9e-abe2540c98ce"
      },
      "execution_count": null,
      "outputs": [
        {
          "output_type": "stream",
          "name": "stdout",
          "text": [
            "Mounted at /content/drive\n"
          ]
        }
      ]
    },
    {
      "cell_type": "code",
      "source": [
        "df = pd.read_csv('/content/drive/MyDrive/Data Set/credit_risk_dataset.csv')"
      ],
      "metadata": {
        "id": "rS3PjXD8LyRG"
      },
      "execution_count": null,
      "outputs": []
    },
    {
      "cell_type": "code",
      "source": [
        "df.info()"
      ],
      "metadata": {
        "colab": {
          "base_uri": "https://localhost:8080/"
        },
        "id": "M0GFRQ2hL2wA",
        "outputId": "359d7617-c63d-453e-b8dc-84f2e5662949"
      },
      "execution_count": null,
      "outputs": [
        {
          "output_type": "stream",
          "name": "stdout",
          "text": [
            "<class 'pandas.core.frame.DataFrame'>\n",
            "RangeIndex: 32581 entries, 0 to 32580\n",
            "Data columns (total 12 columns):\n",
            " #   Column                      Non-Null Count  Dtype  \n",
            "---  ------                      --------------  -----  \n",
            " 0   person_age                  32581 non-null  int64  \n",
            " 1   person_income               32581 non-null  int64  \n",
            " 2   person_home_ownership       32581 non-null  object \n",
            " 3   person_emp_length           31686 non-null  float64\n",
            " 4   loan_intent                 32581 non-null  object \n",
            " 5   loan_grade                  32581 non-null  object \n",
            " 6   loan_amnt                   32581 non-null  int64  \n",
            " 7   loan_int_rate               29465 non-null  float64\n",
            " 8   loan_status                 32581 non-null  int64  \n",
            " 9   loan_percent_income         32581 non-null  float64\n",
            " 10  cb_person_default_on_file   32581 non-null  object \n",
            " 11  cb_person_cred_hist_length  32581 non-null  int64  \n",
            "dtypes: float64(3), int64(5), object(4)\n",
            "memory usage: 3.0+ MB\n"
          ]
        }
      ]
    },
    {
      "cell_type": "code",
      "source": [
        "df.describe()"
      ],
      "metadata": {
        "colab": {
          "base_uri": "https://localhost:8080/",
          "height": 344
        },
        "id": "0n1pp9U7L6DH",
        "outputId": "845b0ada-bc11-478a-b737-9723be073948"
      },
      "execution_count": null,
      "outputs": [
        {
          "output_type": "execute_result",
          "data": {
            "text/plain": [
              "         person_age  person_income  person_emp_length     loan_amnt  \\\n",
              "count  32581.000000   3.258100e+04       31686.000000  32581.000000   \n",
              "mean      27.734600   6.607485e+04           4.789686   9589.371106   \n",
              "std        6.348078   6.198312e+04           4.142630   6322.086646   \n",
              "min       20.000000   4.000000e+03           0.000000    500.000000   \n",
              "25%       23.000000   3.850000e+04           2.000000   5000.000000   \n",
              "50%       26.000000   5.500000e+04           4.000000   8000.000000   \n",
              "75%       30.000000   7.920000e+04           7.000000  12200.000000   \n",
              "max      144.000000   6.000000e+06         123.000000  35000.000000   \n",
              "\n",
              "       loan_int_rate   loan_status  loan_percent_income  \\\n",
              "count   29465.000000  32581.000000         32581.000000   \n",
              "mean       11.011695      0.218164             0.170203   \n",
              "std         3.240459      0.413006             0.106782   \n",
              "min         5.420000      0.000000             0.000000   \n",
              "25%         7.900000      0.000000             0.090000   \n",
              "50%        10.990000      0.000000             0.150000   \n",
              "75%        13.470000      0.000000             0.230000   \n",
              "max        23.220000      1.000000             0.830000   \n",
              "\n",
              "       cb_person_cred_hist_length  \n",
              "count                32581.000000  \n",
              "mean                     5.804211  \n",
              "std                      4.055001  \n",
              "min                      2.000000  \n",
              "25%                      3.000000  \n",
              "50%                      4.000000  \n",
              "75%                      8.000000  \n",
              "max                     30.000000  "
            ],
            "text/html": [
              "\n",
              "  <div id=\"df-68940846-b1f8-4a5e-9e8d-07ab2a58a3ae\">\n",
              "    <div class=\"colab-df-container\">\n",
              "      <div>\n",
              "<style scoped>\n",
              "    .dataframe tbody tr th:only-of-type {\n",
              "        vertical-align: middle;\n",
              "    }\n",
              "\n",
              "    .dataframe tbody tr th {\n",
              "        vertical-align: top;\n",
              "    }\n",
              "\n",
              "    .dataframe thead th {\n",
              "        text-align: right;\n",
              "    }\n",
              "</style>\n",
              "<table border=\"1\" class=\"dataframe\">\n",
              "  <thead>\n",
              "    <tr style=\"text-align: right;\">\n",
              "      <th></th>\n",
              "      <th>person_age</th>\n",
              "      <th>person_income</th>\n",
              "      <th>person_emp_length</th>\n",
              "      <th>loan_amnt</th>\n",
              "      <th>loan_int_rate</th>\n",
              "      <th>loan_status</th>\n",
              "      <th>loan_percent_income</th>\n",
              "      <th>cb_person_cred_hist_length</th>\n",
              "    </tr>\n",
              "  </thead>\n",
              "  <tbody>\n",
              "    <tr>\n",
              "      <th>count</th>\n",
              "      <td>32581.000000</td>\n",
              "      <td>3.258100e+04</td>\n",
              "      <td>31686.000000</td>\n",
              "      <td>32581.000000</td>\n",
              "      <td>29465.000000</td>\n",
              "      <td>32581.000000</td>\n",
              "      <td>32581.000000</td>\n",
              "      <td>32581.000000</td>\n",
              "    </tr>\n",
              "    <tr>\n",
              "      <th>mean</th>\n",
              "      <td>27.734600</td>\n",
              "      <td>6.607485e+04</td>\n",
              "      <td>4.789686</td>\n",
              "      <td>9589.371106</td>\n",
              "      <td>11.011695</td>\n",
              "      <td>0.218164</td>\n",
              "      <td>0.170203</td>\n",
              "      <td>5.804211</td>\n",
              "    </tr>\n",
              "    <tr>\n",
              "      <th>std</th>\n",
              "      <td>6.348078</td>\n",
              "      <td>6.198312e+04</td>\n",
              "      <td>4.142630</td>\n",
              "      <td>6322.086646</td>\n",
              "      <td>3.240459</td>\n",
              "      <td>0.413006</td>\n",
              "      <td>0.106782</td>\n",
              "      <td>4.055001</td>\n",
              "    </tr>\n",
              "    <tr>\n",
              "      <th>min</th>\n",
              "      <td>20.000000</td>\n",
              "      <td>4.000000e+03</td>\n",
              "      <td>0.000000</td>\n",
              "      <td>500.000000</td>\n",
              "      <td>5.420000</td>\n",
              "      <td>0.000000</td>\n",
              "      <td>0.000000</td>\n",
              "      <td>2.000000</td>\n",
              "    </tr>\n",
              "    <tr>\n",
              "      <th>25%</th>\n",
              "      <td>23.000000</td>\n",
              "      <td>3.850000e+04</td>\n",
              "      <td>2.000000</td>\n",
              "      <td>5000.000000</td>\n",
              "      <td>7.900000</td>\n",
              "      <td>0.000000</td>\n",
              "      <td>0.090000</td>\n",
              "      <td>3.000000</td>\n",
              "    </tr>\n",
              "    <tr>\n",
              "      <th>50%</th>\n",
              "      <td>26.000000</td>\n",
              "      <td>5.500000e+04</td>\n",
              "      <td>4.000000</td>\n",
              "      <td>8000.000000</td>\n",
              "      <td>10.990000</td>\n",
              "      <td>0.000000</td>\n",
              "      <td>0.150000</td>\n",
              "      <td>4.000000</td>\n",
              "    </tr>\n",
              "    <tr>\n",
              "      <th>75%</th>\n",
              "      <td>30.000000</td>\n",
              "      <td>7.920000e+04</td>\n",
              "      <td>7.000000</td>\n",
              "      <td>12200.000000</td>\n",
              "      <td>13.470000</td>\n",
              "      <td>0.000000</td>\n",
              "      <td>0.230000</td>\n",
              "      <td>8.000000</td>\n",
              "    </tr>\n",
              "    <tr>\n",
              "      <th>max</th>\n",
              "      <td>144.000000</td>\n",
              "      <td>6.000000e+06</td>\n",
              "      <td>123.000000</td>\n",
              "      <td>35000.000000</td>\n",
              "      <td>23.220000</td>\n",
              "      <td>1.000000</td>\n",
              "      <td>0.830000</td>\n",
              "      <td>30.000000</td>\n",
              "    </tr>\n",
              "  </tbody>\n",
              "</table>\n",
              "</div>\n",
              "      <button class=\"colab-df-convert\" onclick=\"convertToInteractive('df-68940846-b1f8-4a5e-9e8d-07ab2a58a3ae')\"\n",
              "              title=\"Convert this dataframe to an interactive table.\"\n",
              "              style=\"display:none;\">\n",
              "        \n",
              "  <svg xmlns=\"http://www.w3.org/2000/svg\" height=\"24px\"viewBox=\"0 0 24 24\"\n",
              "       width=\"24px\">\n",
              "    <path d=\"M0 0h24v24H0V0z\" fill=\"none\"/>\n",
              "    <path d=\"M18.56 5.44l.94 2.06.94-2.06 2.06-.94-2.06-.94-.94-2.06-.94 2.06-2.06.94zm-11 1L8.5 8.5l.94-2.06 2.06-.94-2.06-.94L8.5 2.5l-.94 2.06-2.06.94zm10 10l.94 2.06.94-2.06 2.06-.94-2.06-.94-.94-2.06-.94 2.06-2.06.94z\"/><path d=\"M17.41 7.96l-1.37-1.37c-.4-.4-.92-.59-1.43-.59-.52 0-1.04.2-1.43.59L10.3 9.45l-7.72 7.72c-.78.78-.78 2.05 0 2.83L4 21.41c.39.39.9.59 1.41.59.51 0 1.02-.2 1.41-.59l7.78-7.78 2.81-2.81c.8-.78.8-2.07 0-2.86zM5.41 20L4 18.59l7.72-7.72 1.47 1.35L5.41 20z\"/>\n",
              "  </svg>\n",
              "      </button>\n",
              "      \n",
              "  <style>\n",
              "    .colab-df-container {\n",
              "      display:flex;\n",
              "      flex-wrap:wrap;\n",
              "      gap: 12px;\n",
              "    }\n",
              "\n",
              "    .colab-df-convert {\n",
              "      background-color: #E8F0FE;\n",
              "      border: none;\n",
              "      border-radius: 50%;\n",
              "      cursor: pointer;\n",
              "      display: none;\n",
              "      fill: #1967D2;\n",
              "      height: 32px;\n",
              "      padding: 0 0 0 0;\n",
              "      width: 32px;\n",
              "    }\n",
              "\n",
              "    .colab-df-convert:hover {\n",
              "      background-color: #E2EBFA;\n",
              "      box-shadow: 0px 1px 2px rgba(60, 64, 67, 0.3), 0px 1px 3px 1px rgba(60, 64, 67, 0.15);\n",
              "      fill: #174EA6;\n",
              "    }\n",
              "\n",
              "    [theme=dark] .colab-df-convert {\n",
              "      background-color: #3B4455;\n",
              "      fill: #D2E3FC;\n",
              "    }\n",
              "\n",
              "    [theme=dark] .colab-df-convert:hover {\n",
              "      background-color: #434B5C;\n",
              "      box-shadow: 0px 1px 3px 1px rgba(0, 0, 0, 0.15);\n",
              "      filter: drop-shadow(0px 1px 2px rgba(0, 0, 0, 0.3));\n",
              "      fill: #FFFFFF;\n",
              "    }\n",
              "  </style>\n",
              "\n",
              "      <script>\n",
              "        const buttonEl =\n",
              "          document.querySelector('#df-68940846-b1f8-4a5e-9e8d-07ab2a58a3ae button.colab-df-convert');\n",
              "        buttonEl.style.display =\n",
              "          google.colab.kernel.accessAllowed ? 'block' : 'none';\n",
              "\n",
              "        async function convertToInteractive(key) {\n",
              "          const element = document.querySelector('#df-68940846-b1f8-4a5e-9e8d-07ab2a58a3ae');\n",
              "          const dataTable =\n",
              "            await google.colab.kernel.invokeFunction('convertToInteractive',\n",
              "                                                     [key], {});\n",
              "          if (!dataTable) return;\n",
              "\n",
              "          const docLinkHtml = 'Like what you see? Visit the ' +\n",
              "            '<a target=\"_blank\" href=https://colab.research.google.com/notebooks/data_table.ipynb>data table notebook</a>'\n",
              "            + ' to learn more about interactive tables.';\n",
              "          element.innerHTML = '';\n",
              "          dataTable['output_type'] = 'display_data';\n",
              "          await google.colab.output.renderOutput(dataTable, element);\n",
              "          const docLink = document.createElement('div');\n",
              "          docLink.innerHTML = docLinkHtml;\n",
              "          element.appendChild(docLink);\n",
              "        }\n",
              "      </script>\n",
              "    </div>\n",
              "  </div>\n",
              "  "
            ]
          },
          "metadata": {},
          "execution_count": 5
        }
      ]
    },
    {
      "cell_type": "code",
      "source": [
        "df.nunique()"
      ],
      "metadata": {
        "colab": {
          "base_uri": "https://localhost:8080/"
        },
        "id": "hDG74Za9MEXm",
        "outputId": "ab8af050-877c-495f-c1cf-d396f54d5122"
      },
      "execution_count": null,
      "outputs": [
        {
          "output_type": "execute_result",
          "data": {
            "text/plain": [
              "person_age                      58\n",
              "person_income                 4295\n",
              "person_home_ownership            4\n",
              "person_emp_length               36\n",
              "loan_intent                      6\n",
              "loan_grade                       7\n",
              "loan_amnt                      753\n",
              "loan_int_rate                  348\n",
              "loan_status                      2\n",
              "loan_percent_income             77\n",
              "cb_person_default_on_file        2\n",
              "cb_person_cred_hist_length      29\n",
              "dtype: int64"
            ]
          },
          "metadata": {},
          "execution_count": 6
        }
      ]
    },
    {
      "cell_type": "code",
      "source": [
        "numerical = df.select_dtypes([np.number]).columns.tolist()\n",
        "numerical"
      ],
      "metadata": {
        "colab": {
          "base_uri": "https://localhost:8080/"
        },
        "id": "tJu4Obc3MLX3",
        "outputId": "8e8744cc-2d42-4b2f-ea8b-239f0473db9e"
      },
      "execution_count": null,
      "outputs": [
        {
          "output_type": "execute_result",
          "data": {
            "text/plain": [
              "['person_age',\n",
              " 'person_income',\n",
              " 'person_emp_length',\n",
              " 'loan_amnt',\n",
              " 'loan_int_rate',\n",
              " 'loan_status',\n",
              " 'loan_percent_income',\n",
              " 'cb_person_cred_hist_length']"
            ]
          },
          "metadata": {},
          "execution_count": 7
        }
      ]
    },
    {
      "cell_type": "code",
      "source": [
        "categorical = df.select_dtypes('object').columns.tolist()\n",
        "categorical\n"
      ],
      "metadata": {
        "colab": {
          "base_uri": "https://localhost:8080/"
        },
        "id": "OfIQ7u2IMSXq",
        "outputId": "af406358-2a5d-4034-e050-9143be49edc7"
      },
      "execution_count": null,
      "outputs": [
        {
          "output_type": "execute_result",
          "data": {
            "text/plain": [
              "['person_home_ownership',\n",
              " 'loan_intent',\n",
              " 'loan_grade',\n",
              " 'cb_person_default_on_file']"
            ]
          },
          "metadata": {},
          "execution_count": 8
        }
      ]
    },
    {
      "cell_type": "markdown",
      "source": [
        "#EDA"
      ],
      "metadata": {
        "id": "9R7btzvMMhrW"
      }
    },
    {
      "cell_type": "markdown",
      "source": [
        "##Check For Outlier"
      ],
      "metadata": {
        "id": "J8MVR28_MnQ5"
      }
    },
    {
      "cell_type": "code",
      "source": [
        "#For Pure Numerical Values \n",
        "\n",
        "plt.figure(figsize=(50,40))\n",
        "\n",
        "# plotting\n",
        "features = numerical\n",
        "for i in range(0, len(features)):\n",
        "    plt.subplot(1, len(features), i+1)\n",
        "    sns.boxplot(y=df[features[i]], color='red')\n",
        "    plt.tight_layout()"
      ],
      "metadata": {
        "colab": {
          "base_uri": "https://localhost:8080/",
          "height": 907
        },
        "id": "RVaRQSwiMmSm",
        "outputId": "efa032ed-c0b2-4542-eaee-af1b68d19446"
      },
      "execution_count": null,
      "outputs": [
        {
          "output_type": "display_data",
          "data": {
            "text/plain": [
              "<Figure size 3600x2880 with 8 Axes>"
            ],
            "image/png": "[encoded data removed]"
          },
          "metadata": {
            "needs_background": "light"
          }
        }
      ]
    },
    {
      "cell_type": "markdown",
      "source": [
        "Conclusion: Some Values contain outlier in the dataset"
      ],
      "metadata": {
        "id": "Pc7cSj7ZM8-g"
      }
    },
    {
      "cell_type": "markdown",
      "source": [
        "##Check for missing value and duplicated data"
      ],
      "metadata": {
        "id": "Gq4eJP9lNGHY"
      }
    },
    {
      "cell_type": "code",
      "source": [
        "df.isnull().sum()/len(df)*100"
      ],
      "metadata": {
        "colab": {
          "base_uri": "https://localhost:8080/"
        },
        "id": "p6ohbkhUNO53",
        "outputId": "f744a80e-2489-47b6-c1d2-8bff07c8727e"
      },
      "execution_count": null,
      "outputs": [
        {
          "output_type": "execute_result",
          "data": {
            "text/plain": [
              "person_age                    0.000000\n",
              "person_income                 0.000000\n",
              "person_home_ownership         0.000000\n",
              "person_emp_length             2.747000\n",
              "loan_intent                   0.000000\n",
              "loan_grade                    0.000000\n",
              "loan_amnt                     0.000000\n",
              "loan_int_rate                 9.563856\n",
              "loan_status                   0.000000\n",
              "loan_percent_income           0.000000\n",
              "cb_person_default_on_file     0.000000\n",
              "cb_person_cred_hist_length    0.000000\n",
              "dtype: float64"
            ]
          },
          "metadata": {},
          "execution_count": 13
        }
      ]
    },
    {
      "cell_type": "markdown",
      "source": [
        "Drop dataset with missing values less than 5%, fill with median for `loan_int_rate`"
      ],
      "metadata": {
        "id": "Fk9nUK7ENU94"
      }
    },
    {
      "cell_type": "code",
      "source": [
        "df.dropna(subset = ['person_emp_length'], inplace=True)\n",
        "#Rechek For Missing Value\n",
        "df.isnull().sum()/len(df)*100"
      ],
      "metadata": {
        "colab": {
          "base_uri": "https://localhost:8080/"
        },
        "id": "avNNcg-GNhrw",
        "outputId": "7e29b191-b9de-4600-b7f8-45be6c583ab1"
      },
      "execution_count": null,
      "outputs": [
        {
          "output_type": "execute_result",
          "data": {
            "text/plain": [
              "person_age                    0.00000\n",
              "person_income                 0.00000\n",
              "person_home_ownership         0.00000\n",
              "person_emp_length             0.00000\n",
              "loan_intent                   0.00000\n",
              "loan_grade                    0.00000\n",
              "loan_amnt                     0.00000\n",
              "loan_int_rate                 9.61939\n",
              "loan_status                   0.00000\n",
              "loan_percent_income           0.00000\n",
              "cb_person_default_on_file     0.00000\n",
              "cb_person_cred_hist_length    0.00000\n",
              "dtype: float64"
            ]
          },
          "metadata": {},
          "execution_count": 17
        }
      ]
    },
    {
      "cell_type": "code",
      "source": [
        "#Filling missing value \n",
        "df['loan_int_rate'].fillna(df['loan_int_rate'].mean(), inplace=True)\n",
        "#Rechek For Missing Value\n",
        "df.isnull().sum()/len(df)*100"
      ],
      "metadata": {
        "colab": {
          "base_uri": "https://localhost:8080/"
        },
        "id": "RcjXWmKhOTrL",
        "outputId": "8bd64cf6-ce4f-477b-e9eb-a8b2888de74e"
      },
      "execution_count": null,
      "outputs": [
        {
          "output_type": "execute_result",
          "data": {
            "text/plain": [
              "person_age                    0.0\n",
              "person_income                 0.0\n",
              "person_home_ownership         0.0\n",
              "person_emp_length             0.0\n",
              "loan_intent                   0.0\n",
              "loan_grade                    0.0\n",
              "loan_amnt                     0.0\n",
              "loan_int_rate                 0.0\n",
              "loan_status                   0.0\n",
              "loan_percent_income           0.0\n",
              "cb_person_default_on_file     0.0\n",
              "cb_person_cred_hist_length    0.0\n",
              "dtype: float64"
            ]
          },
          "metadata": {},
          "execution_count": 18
        }
      ]
    },
    {
      "cell_type": "markdown",
      "source": [
        "##Preprocessing Categorical Variable"
      ],
      "metadata": {
        "id": "5fnwSOqfOqXK"
      }
    },
    {
      "cell_type": "code",
      "source": [
        "df[categorical].describe()"
      ],
      "metadata": {
        "colab": {
          "base_uri": "https://localhost:8080/",
          "height": 175
        },
        "id": "YyOIPk3kOt4F",
        "outputId": "36ae7ce7-add2-41a4-81ec-bbd0fcaaa19f"
      },
      "execution_count": null,
      "outputs": [
        {
          "output_type": "execute_result",
          "data": {
            "text/plain": [
              "       person_home_ownership loan_intent loan_grade cb_person_default_on_file\n",
              "count                  31686       31686      31686                     31686\n",
              "unique                     4           6          7                         2\n",
              "top                     RENT   EDUCATION          A                         N\n",
              "freq                   16076        6290      10371                     26057"
            ],
            "text/html": [
              "\n",
              "  <div id=\"df-8877579f-38a4-4edb-b342-22c647a725de\">\n",
              "    <div class=\"colab-df-container\">\n",
              "      <div>\n",
              "<style scoped>\n",
              "    .dataframe tbody tr th:only-of-type {\n",
              "        vertical-align: middle;\n",
              "    }\n",
              "\n",
              "    .dataframe tbody tr th {\n",
              "        vertical-align: top;\n",
              "    }\n",
              "\n",
              "    .dataframe thead th {\n",
              "        text-align: right;\n",
              "    }\n",
              "</style>\n",
              "<table border=\"1\" class=\"dataframe\">\n",
              "  <thead>\n",
              "    <tr style=\"text-align: right;\">\n",
              "      <th></th>\n",
              "      <th>person_home_ownership</th>\n",
              "      <th>loan_intent</th>\n",
              "      <th>loan_grade</th>\n",
              "      <th>cb_person_default_on_file</th>\n",
              "    </tr>\n",
              "  </thead>\n",
              "  <tbody>\n",
              "    <tr>\n",
              "      <th>count</th>\n",
              "      <td>31686</td>\n",
              "      <td>31686</td>\n",
              "      <td>31686</td>\n",
              "      <td>31686</td>\n",
              "    </tr>\n",
              "    <tr>\n",
              "      <th>unique</th>\n",
              "      <td>4</td>\n",
              "      <td>6</td>\n",
              "      <td>7</td>\n",
              "      <td>2</td>\n",
              "    </tr>\n",
              "    <tr>\n",
              "      <th>top</th>\n",
              "      <td>RENT</td>\n",
              "      <td>EDUCATION</td>\n",
              "      <td>A</td>\n",
              "      <td>N</td>\n",
              "    </tr>\n",
              "    <tr>\n",
              "      <th>freq</th>\n",
              "      <td>16076</td>\n",
              "      <td>6290</td>\n",
              "      <td>10371</td>\n",
              "      <td>26057</td>\n",
              "    </tr>\n",
              "  </tbody>\n",
              "</table>\n",
              "</div>\n",
              "      <button class=\"colab-df-convert\" onclick=\"convertToInteractive('df-8877579f-38a4-4edb-b342-22c647a725de')\"\n",
              "              title=\"Convert this dataframe to an interactive table.\"\n",
              "              style=\"display:none;\">\n",
              "        \n",
              "  <svg xmlns=\"http://www.w3.org/2000/svg\" height=\"24px\"viewBox=\"0 0 24 24\"\n",
              "       width=\"24px\">\n",
              "    <path d=\"M0 0h24v24H0V0z\" fill=\"none\"/>\n",
              "    <path d=\"M18.56 5.44l.94 2.06.94-2.06 2.06-.94-2.06-.94-.94-2.06-.94 2.06-2.06.94zm-11 1L8.5 8.5l.94-2.06 2.06-.94-2.06-.94L8.5 2.5l-.94 2.06-2.06.94zm10 10l.94 2.06.94-2.06 2.06-.94-2.06-.94-.94-2.06-.94 2.06-2.06.94z\"/><path d=\"M17.41 7.96l-1.37-1.37c-.4-.4-.92-.59-1.43-.59-.52 0-1.04.2-1.43.59L10.3 9.45l-7.72 7.72c-.78.78-.78 2.05 0 2.83L4 21.41c.39.39.9.59 1.41.59.51 0 1.02-.2 1.41-.59l7.78-7.78 2.81-2.81c.8-.78.8-2.07 0-2.86zM5.41 20L4 18.59l7.72-7.72 1.47 1.35L5.41 20z\"/>\n",
              "  </svg>\n",
              "      </button>\n",
              "      \n",
              "  <style>\n",
              "    .colab-df-container {\n",
              "      display:flex;\n",
              "      flex-wrap:wrap;\n",
              "      gap: 12px;\n",
              "    }\n",
              "\n",
              "    .colab-df-convert {\n",
              "      background-color: #E8F0FE;\n",
              "      border: none;\n",
              "      border-radius: 50%;\n",
              "      cursor: pointer;\n",
              "      display: none;\n",
              "      fill: #1967D2;\n",
              "      height: 32px;\n",
              "      padding: 0 0 0 0;\n",
              "      width: 32px;\n",
              "    }\n",
              "\n",
              "    .colab-df-convert:hover {\n",
              "      background-color: #E2EBFA;\n",
              "      box-shadow: 0px 1px 2px rgba(60, 64, 67, 0.3), 0px 1px 3px 1px rgba(60, 64, 67, 0.15);\n",
              "      fill: #174EA6;\n",
              "    }\n",
              "\n",
              "    [theme=dark] .colab-df-convert {\n",
              "      background-color: #3B4455;\n",
              "      fill: #D2E3FC;\n",
              "    }\n",
              "\n",
              "    [theme=dark] .colab-df-convert:hover {\n",
              "      background-color: #434B5C;\n",
              "      box-shadow: 0px 1px 3px 1px rgba(0, 0, 0, 0.15);\n",
              "      filter: drop-shadow(0px 1px 2px rgba(0, 0, 0, 0.3));\n",
              "      fill: #FFFFFF;\n",
              "    }\n",
              "  </style>\n",
              "\n",
              "      <script>\n",
              "        const buttonEl =\n",
              "          document.querySelector('#df-8877579f-38a4-4edb-b342-22c647a725de button.colab-df-convert');\n",
              "        buttonEl.style.display =\n",
              "          google.colab.kernel.accessAllowed ? 'block' : 'none';\n",
              "\n",
              "        async function convertToInteractive(key) {\n",
              "          const element = document.querySelector('#df-8877579f-38a4-4edb-b342-22c647a725de');\n",
              "          const dataTable =\n",
              "            await google.colab.kernel.invokeFunction('convertToInteractive',\n",
              "                                                     [key], {});\n",
              "          if (!dataTable) return;\n",
              "\n",
              "          const docLinkHtml = 'Like what you see? Visit the ' +\n",
              "            '<a target=\"_blank\" href=https://colab.research.google.com/notebooks/data_table.ipynb>data table notebook</a>'\n",
              "            + ' to learn more about interactive tables.';\n",
              "          element.innerHTML = '';\n",
              "          dataTable['output_type'] = 'display_data';\n",
              "          await google.colab.output.renderOutput(dataTable, element);\n",
              "          const docLink = document.createElement('div');\n",
              "          docLink.innerHTML = docLinkHtml;\n",
              "          element.appendChild(docLink);\n",
              "        }\n",
              "      </script>\n",
              "    </div>\n",
              "  </div>\n",
              "  "
            ]
          },
          "metadata": {},
          "execution_count": 20
        }
      ]
    },
    {
      "cell_type": "code",
      "source": [
        "df['person_home_ownership'].value_counts()"
      ],
      "metadata": {
        "colab": {
          "base_uri": "https://localhost:8080/"
        },
        "id": "sRK3mI-sO-WH",
        "outputId": "aaeff713-c031-472e-d544-776539b3329e"
      },
      "execution_count": null,
      "outputs": [
        {
          "output_type": "execute_result",
          "data": {
            "text/plain": [
              "RENT        16076\n",
              "MORTGAGE    13093\n",
              "OWN          2410\n",
              "OTHER         107\n",
              "Name: person_home_ownership, dtype: int64"
            ]
          },
          "metadata": {},
          "execution_count": 21
        }
      ]
    },
    {
      "cell_type": "code",
      "source": [
        "df = df[df['person_home_ownership'] != 'OTHER']"
      ],
      "metadata": {
        "id": "h-jEG8q7PMIm"
      },
      "execution_count": null,
      "outputs": []
    },
    {
      "cell_type": "code",
      "source": [
        "#Recheck for person home ownership\n",
        "df['person_home_ownership'].value_counts()"
      ],
      "metadata": {
        "colab": {
          "base_uri": "https://localhost:8080/"
        },
        "id": "kenM1lAHPTec",
        "outputId": "509baa18-7793-4a32-e502-b905b0a9f3b7"
      },
      "execution_count": null,
      "outputs": [
        {
          "output_type": "execute_result",
          "data": {
            "text/plain": [
              "RENT        16076\n",
              "MORTGAGE    13093\n",
              "OWN          2410\n",
              "Name: person_home_ownership, dtype: int64"
            ]
          },
          "metadata": {},
          "execution_count": 23
        }
      ]
    },
    {
      "cell_type": "markdown",
      "source": [
        "##Preprocessing `person_home_ownership` "
      ],
      "metadata": {
        "id": "oQH6ioO6M8Le"
      }
    },
    {
      "cell_type": "code",
      "source": [
        "home_enc = {\"RENT\" : 0,\n",
        "          \"MORTGAGE\" : 1,\n",
        "          \"OWN\" : 2,\n",
        "          }\n",
        "df['person_home_ownership'] = df['person_home_ownership'].map(home_enc)"
      ],
      "metadata": {
        "colab": {
          "base_uri": "https://localhost:8080/"
        },
        "id": "9QL7ETnHPxm5",
        "outputId": "a7f230e1-6a68-45db-9c0d-b26d5d2dad00"
      },
      "execution_count": null,
      "outputs": [
        {
          "output_type": "stream",
          "name": "stderr",
          "text": [
            "/usr/local/lib/python3.7/dist-packages/ipykernel_launcher.py:5: SettingWithCopyWarning: \n",
            "A value is trying to be set on a copy of a slice from a DataFrame.\n",
            "Try using .loc[row_indexer,col_indexer] = value instead\n",
            "\n",
            "See the caveats in the documentation: https://pandas.pydata.org/pandas-docs/stable/user_guide/indexing.html#returning-a-view-versus-a-copy\n",
            "  \"\"\"\n"
          ]
        }
      ]
    },
    {
      "cell_type": "code",
      "source": [
        "df['person_home_ownership'].value_counts()"
      ],
      "metadata": {
        "colab": {
          "base_uri": "https://localhost:8080/"
        },
        "id": "r-8sWTSXQIvN",
        "outputId": "14b33e03-3b47-4bf3-f5e8-b9a6b8881003"
      },
      "execution_count": null,
      "outputs": [
        {
          "output_type": "execute_result",
          "data": {
            "text/plain": [
              "0    16076\n",
              "1    13093\n",
              "2     2410\n",
              "Name: person_home_ownership, dtype: int64"
            ]
          },
          "metadata": {},
          "execution_count": 25
        }
      ]
    },
    {
      "cell_type": "markdown",
      "source": [
        "##Preprocessing `loan_intent`"
      ],
      "metadata": {
        "id": "zxFCyn49QQhT"
      }
    },
    {
      "cell_type": "code",
      "source": [
        "df['loan_intent'].value_counts()"
      ],
      "metadata": {
        "colab": {
          "base_uri": "https://localhost:8080/"
        },
        "id": "nWRDyEAUQVxo",
        "outputId": "e924af9f-951e-4dd4-91f7-85646317dc65"
      },
      "execution_count": null,
      "outputs": [
        {
          "output_type": "execute_result",
          "data": {
            "text/plain": [
              "EDUCATION            6273\n",
              "MEDICAL              5880\n",
              "VENTURE              5530\n",
              "PERSONAL             5351\n",
              "DEBTCONSOLIDATION    5047\n",
              "HOMEIMPROVEMENT      3498\n",
              "Name: loan_intent, dtype: int64"
            ]
          },
          "metadata": {},
          "execution_count": 26
        }
      ]
    },
    {
      "cell_type": "markdown",
      "source": [
        "To make the model more simple, we're gonna drop this column and neglect the intention effect for the credit risk."
      ],
      "metadata": {
        "id": "8DsOBVCPQqIL"
      }
    },
    {
      "cell_type": "code",
      "source": [
        "df = df.drop('loan_intent', axis=1)"
      ],
      "metadata": {
        "id": "mwyriWhrQ8DG"
      },
      "execution_count": null,
      "outputs": []
    },
    {
      "cell_type": "markdown",
      "source": [
        "##Preprocessing `loan_grade`"
      ],
      "metadata": {
        "id": "sSxuVb7CRCST"
      }
    },
    {
      "cell_type": "code",
      "source": [
        "df['loan_grade'].value_counts()"
      ],
      "metadata": {
        "colab": {
          "base_uri": "https://localhost:8080/"
        },
        "id": "L1zOOHleRGTS",
        "outputId": "39a5b302-6888-4f73-f6ed-e8a003b25eb4"
      },
      "execution_count": null,
      "outputs": [
        {
          "output_type": "execute_result",
          "data": {
            "text/plain": [
              "A    10345\n",
              "B    10152\n",
              "C     6304\n",
              "D     3536\n",
              "E      944\n",
              "F      234\n",
              "G       64\n",
              "Name: loan_grade, dtype: int64"
            ]
          },
          "metadata": {},
          "execution_count": 28
        }
      ]
    },
    {
      "cell_type": "code",
      "source": [
        "grade_enc = {\"G\" : 0,\n",
        "          \"F\" : 1,\n",
        "          \"E\" : 2,\n",
        "          \"D\" : 3, \n",
        "          \"C\" : 4, \n",
        "          \"B\" : 5, \n",
        "          \"A\" : 6\n",
        "          }\n",
        "df['loan_grade'] = df['loan_grade'].map(grade_enc)"
      ],
      "metadata": {
        "id": "y3NiUx9rRMo9"
      },
      "execution_count": null,
      "outputs": []
    },
    {
      "cell_type": "markdown",
      "source": [
        "##Preprocessing `cb_person_default_on_file`"
      ],
      "metadata": {
        "id": "exZrSFmGRsXk"
      }
    },
    {
      "cell_type": "code",
      "source": [
        "df['cb_person_default_on_file'].value_counts()/len(df)*100"
      ],
      "metadata": {
        "colab": {
          "base_uri": "https://localhost:8080/"
        },
        "id": "7Jmzw4ebSJ77",
        "outputId": "56c0ac18-b79c-4dd8-e288-485e53319571"
      },
      "execution_count": null,
      "outputs": [
        {
          "output_type": "execute_result",
          "data": {
            "text/plain": [
              "N    82.266696\n",
              "Y    17.733304\n",
              "Name: cb_person_default_on_file, dtype: float64"
            ]
          },
          "metadata": {},
          "execution_count": 31
        }
      ]
    },
    {
      "cell_type": "code",
      "source": [
        "cb_enc = {\"N\" : 0, \n",
        "          \"Y\" :1}\n",
        "df['cb_person_default_on_file'] = df['cb_person_default_on_file'].map(cb_enc)"
      ],
      "metadata": {
        "id": "Q5anK_7kSTC_"
      },
      "execution_count": null,
      "outputs": []
    },
    {
      "cell_type": "code",
      "source": [
        ""
      ],
      "metadata": {
        "id": "uP3EcHK9ShwP"
      },
      "execution_count": null,
      "outputs": []
    },
    {
      "cell_type": "markdown",
      "source": [
        "##Outlier Handling"
      ],
      "metadata": {
        "id": "gjrYSzI-SjQX"
      }
    },
    {
      "cell_type": "code",
      "source": [
        "df[numerical].nunique()"
      ],
      "metadata": {
        "colab": {
          "base_uri": "https://localhost:8080/"
        },
        "id": "qpQdfcGeSnEK",
        "outputId": "cbe6ee5e-8d39-404d-b36e-3c2b2bcf6eeb"
      },
      "execution_count": null,
      "outputs": [
        {
          "output_type": "execute_result",
          "data": {
            "text/plain": [
              "person_age                      58\n",
              "person_income                 4116\n",
              "person_emp_length               36\n",
              "loan_amnt                      749\n",
              "loan_int_rate                  349\n",
              "loan_status                      2\n",
              "loan_percent_income             77\n",
              "cb_person_cred_hist_length      29\n",
              "dtype: int64"
            ]
          },
          "metadata": {},
          "execution_count": 33
        }
      ]
    },
    {
      "cell_type": "code",
      "source": [
        "column=df.columns.tolist()\n",
        "column"
      ],
      "metadata": {
        "colab": {
          "base_uri": "https://localhost:8080/"
        },
        "id": "3f4lFKjETDiT",
        "outputId": "7cedb808-8e81-4f8b-c7bd-73b370899545"
      },
      "execution_count": null,
      "outputs": [
        {
          "output_type": "execute_result",
          "data": {
            "text/plain": [
              "['person_age',\n",
              " 'person_income',\n",
              " 'person_home_ownership',\n",
              " 'person_emp_length',\n",
              " 'loan_grade',\n",
              " 'loan_amnt',\n",
              " 'loan_int_rate',\n",
              " 'loan_status',\n",
              " 'loan_percent_income',\n",
              " 'cb_person_default_on_file',\n",
              " 'cb_person_cred_hist_length']"
            ]
          },
          "metadata": {},
          "execution_count": 36
        }
      ]
    },
    {
      "cell_type": "code",
      "source": [
        "target=['loan_status']\n",
        "column_feature = [feature for feature in column if feature not in target] \n",
        "column_feature"
      ],
      "metadata": {
        "colab": {
          "base_uri": "https://localhost:8080/"
        },
        "id": "-Dlab8xnTnkJ",
        "outputId": "74c754a3-f719-46d2-8261-ebef65a1411e"
      },
      "execution_count": null,
      "outputs": [
        {
          "output_type": "execute_result",
          "data": {
            "text/plain": [
              "['person_age',\n",
              " 'person_income',\n",
              " 'person_home_ownership',\n",
              " 'person_emp_length',\n",
              " 'loan_grade',\n",
              " 'loan_amnt',\n",
              " 'loan_int_rate',\n",
              " 'loan_percent_income',\n",
              " 'cb_person_default_on_file',\n",
              " 'cb_person_cred_hist_length']"
            ]
          },
          "metadata": {},
          "execution_count": 37
        }
      ]
    },
    {
      "cell_type": "code",
      "source": [
        "#Handling Outlier\n",
        "for col in column_feature: \n",
        "  q3 = df[col].quantile(0.75)\n",
        "  q1 = df[col].quantile(0.25)\n",
        "  IQR = q3 - q1 \n",
        "  lower_limit = q1 - (IQR * 1.5)\n",
        "  upper_limit = q3 + (IQR * 1.5)\n",
        "  df[col] = np.where(df[col]> upper_limit, upper_limit,\n",
        "                        np.where(df[col]< lower_limit, lower_limit,\n",
        "                          df[col]))"
      ],
      "metadata": {
        "id": "TvXbdZw1S4zU"
      },
      "execution_count": null,
      "outputs": []
    },
    {
      "cell_type": "code",
      "source": [
        "#Check for boxplot after handling outlier \n",
        "#Recheck for Outlier\n",
        "#For Pure Numerical Values \n",
        "\n",
        "plt.figure(figsize=(20,10))\n",
        "\n",
        "# plotting\n",
        "features = df.columns.tolist()\n",
        "for i in range(0, len(features)):\n",
        "    plt.subplot(1, len(features), i+1)\n",
        "    sns.boxplot(y=df[features[i]], color='blue')\n",
        "    plt.tight_layout()"
      ],
      "metadata": {
        "colab": {
          "base_uri": "https://localhost:8080/",
          "height": 570
        },
        "id": "NAeKun8CT7WB",
        "outputId": "15f25343-9126-4c93-8774-8d9f68a4e755"
      },
      "execution_count": null,
      "outputs": [
        {
          "output_type": "display_data",
          "data": {
            "text/plain": [
              "<Figure size 1440x720 with 11 Axes>"
            ],
            "image/png": "[encoded data removed]"
          },
          "metadata": {
            "needs_background": "light"
          }
        }
      ]
    },
    {
      "cell_type": "code",
      "source": [
        "#Final Shape \n",
        "df.shape"
      ],
      "metadata": {
        "colab": {
          "base_uri": "https://localhost:8080/"
        },
        "id": "_r7zJKacUNBJ",
        "outputId": "b58a5ef9-f063-46d5-8880-af27af2434ce"
      },
      "execution_count": null,
      "outputs": [
        {
          "output_type": "execute_result",
          "data": {
            "text/plain": [
              "(31579, 11)"
            ]
          },
          "metadata": {},
          "execution_count": 41
        }
      ]
    },
    {
      "cell_type": "markdown",
      "source": [
        "#Download Cleaned Data set"
      ],
      "metadata": {
        "id": "ZCh81SQ2UmuF"
      }
    },
    {
      "cell_type": "code",
      "source": [
        "from google.colab import files\n",
        "df.to_csv('credit risk cleaned.csv') \n",
        "files.download('credit risk cleaned.csv')"
      ],
      "metadata": {
        "colab": {
          "base_uri": "https://localhost:8080/",
          "height": 17
        },
        "id": "3FUKhdVAUj-8",
        "outputId": "768f4850-bda0-4462-8f06-7a96be23aa2f"
      },
      "execution_count": null,
      "outputs": [
        {
          "output_type": "display_data",
          "data": {
            "text/plain": [
              "<IPython.core.display.Javascript object>"
            ],
            "application/javascript": [
              "\n",
              "    async function download(id, filename, size) {\n",
              "      if (!google.colab.kernel.accessAllowed) {\n",
              "        return;\n",
              "      }\n",
              "      const div = document.createElement('div');\n",
              "      const label = document.createElement('label');\n",
              "      label.textContent = `Downloading \"${filename}\": `;\n",
              "      div.appendChild(label);\n",
              "      const progress = document.createElement('progress');\n",
              "      progress.max = size;\n",
              "      div.appendChild(progress);\n",
              "      document.body.appendChild(div);\n",
              "\n",
              "      const buffers = [];\n",
              "      let downloaded = 0;\n",
              "\n",
              "      const channel = await google.colab.kernel.comms.open(id);\n",
              "      // Send a message to notify the kernel that we're ready.\n",
              "      channel.send({})\n",
              "\n",
              "      for await (const message of channel.messages) {\n",
              "        // Send a message to notify the kernel that we're ready.\n",
              "        channel.send({})\n",
              "        if (message.buffers) {\n",
              "          for (const buffer of message.buffers) {\n",
              "            buffers.push(buffer);\n",
              "            downloaded += buffer.byteLength;\n",
              "            progress.value = downloaded;\n",
              "          }\n",
              "        }\n",
              "      }\n",
              "      const blob = new Blob(buffers, {type: 'application/binary'});\n",
              "      const a = document.createElement('a');\n",
              "      a.href = window.URL.createObjectURL(blob);\n",
              "      a.download = filename;\n",
              "      div.appendChild(a);\n",
              "      a.click();\n",
              "      div.remove();\n",
              "    }\n",
              "  "
            ]
          },
          "metadata": {}
        },
        {
          "output_type": "display_data",
          "data": {
            "text/plain": [
              "<IPython.core.display.Javascript object>"
            ],
            "application/javascript": [
              "download(\"download_06a4cca4-bef7-43a6-9eaa-9c8d33925dac\", \"credit risk cleaned.csv\", 1913443)"
            ]
          },
          "metadata": {}
        }
      ]
    }
  ]
}